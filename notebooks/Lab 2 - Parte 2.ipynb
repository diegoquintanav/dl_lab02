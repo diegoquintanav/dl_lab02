{
 "cells": [
  {
   "cell_type": "markdown",
   "metadata": {},
   "source": [
    "# Laboratorio ML <span class=\"tocSkip\">\n",
    "# Parte 2 <span class=\"tocSkip\">"
   ]
  },
  {
   "cell_type": "markdown",
   "metadata": {
    "toc": true
   },
   "source": [
    "<h1>Table of Contents<span class=\"tocSkip\"></span></h1>\n",
    "<div class=\"toc\" style=\"margin-top: 1em;\"><ul class=\"toc-item\"><li><span><a href=\"#Actividad-1\" data-toc-modified-id=\"Actividad-1-1\"><span class=\"toc-item-num\">1&nbsp;&nbsp;</span>Actividad 1</a></span><ul class=\"toc-item\"><li><span><a href=\"#VGG-16\" data-toc-modified-id=\"VGG-16-1.1\"><span class=\"toc-item-num\">1.1&nbsp;&nbsp;</span>VGG-16</a></span><ul class=\"toc-item\"><li><span><a href=\"#Características\" data-toc-modified-id=\"Características-1.1.1\"><span class=\"toc-item-num\">1.1.1&nbsp;&nbsp;</span>Características</a></span></li><li><span><a href=\"#Resultados-ImageNet\" data-toc-modified-id=\"Resultados-ImageNet-1.1.2\"><span class=\"toc-item-num\">1.1.2&nbsp;&nbsp;</span>Resultados ImageNet</a></span></li></ul></li><li><span><a href=\"#ResNet-50\" data-toc-modified-id=\"ResNet-50-1.2\"><span class=\"toc-item-num\">1.2&nbsp;&nbsp;</span>ResNet-50</a></span><ul class=\"toc-item\"><li><span><a href=\"#Características\" data-toc-modified-id=\"Características-1.2.1\"><span class=\"toc-item-num\">1.2.1&nbsp;&nbsp;</span>Características</a></span></li><li><span><a href=\"#Resultados-ImageNet\" data-toc-modified-id=\"Resultados-ImageNet-1.2.2\"><span class=\"toc-item-num\">1.2.2&nbsp;&nbsp;</span>Resultados ImageNet</a></span></li></ul></li></ul></li><li><span><a href=\"#Actividad-2\" data-toc-modified-id=\"Actividad-2-2\"><span class=\"toc-item-num\">2&nbsp;&nbsp;</span>Actividad 2</a></span></li><li><span><a href=\"#Actividad-3\" data-toc-modified-id=\"Actividad-3-3\"><span class=\"toc-item-num\">3&nbsp;&nbsp;</span>Actividad 3</a></span></li><li><span><a href=\"#Actividad-4\" data-toc-modified-id=\"Actividad-4-4\"><span class=\"toc-item-num\">4&nbsp;&nbsp;</span>Actividad 4</a></span></li><li><span><a href=\"#Actividad-5\" data-toc-modified-id=\"Actividad-5-5\"><span class=\"toc-item-num\">5&nbsp;&nbsp;</span>Actividad 5</a></span></li></ul></div>"
   ]
  },
  {
   "cell_type": "markdown",
   "metadata": {
    "collapsed": true
   },
   "source": [
    "# Actividad 1\n",
    "[Este paper](https://openreview.net/pdf?id=Bygq-H9eg) hace una comparación de distintas redes, desde AlexNet hasta VGG-16 y ResNet-50. A continuación se harán comentarios generales sobre ambas arquitecturas."
   ]
  },
  {
   "cell_type": "markdown",
   "metadata": {
    "collapsed": true
   },
   "source": [
    "## VGG-16\n",
    "\n",
    "### Características\n",
    "Como alternativa a AlexNet, VGG-16 es el resultado del trabajo que se encuentra documentado en [este paper](http://arxiv.org/abs/1409.1556v6), junto con otras redes. Este trabajo es la exploración de distintas arquitecturas, donde la implementación de filtros convolucionales es de orden pequeño ($3\\times3$), permitiendo distintas arquitecturas desde 16 (VGG-16) hasta 19 capas (VGG-19).\n",
    "\n",
    "Las siguientes tablas indican las distintas arquitecturas probadas en el trabajo, donde la red estudiada en este trabajo corresponde a la **D**. La segunda tabla indica la cantidad de parámetros totales en millones.\n",
    "\n",
    "![vgg1](./img/imagenet_vggnet_table1.png)\n",
    "![vgg2](./img/vgg_parameters.png)\n",
    "\n",
    "### Resultados ImageNet\n",
    "La red presentó, según [ésta página](http://www.robots.ox.ac.uk/~vgg/research/very_deep/), un error del 7.5% y 7.4% en fase de entrenamiento y test respectivamente sobre los datos de la competición de 2012. Estos resultados le permitieron a esta red ganar el primer lugar en la competición de ImageNet 2014\n",
    "\n",
    "![vgg2](./img/vgg_imagenet.png)"
   ]
  },
  {
   "cell_type": "markdown",
   "metadata": {},
   "source": [
    "## ResNet-50\n",
    "\n",
    "### Características\n",
    "\n",
    "La principal característica de las redes residuales, es la de la incorporación de módulos residuales. Estos permiten establecer una relación entre la información de entrada y la de salida en cada capa, donde esta última se redefine como la suma neta entre ambas. Esto permite amortiguar el efecto de aquellas capas cuyos pesos son muy bajos o no aportan al problema, además de permitir arquitecturas de más capas, pero con menor complejidad que las redes VGG.\n",
    "\n",
    "![resnet2](./img/resnet2.png)\n",
    "\n",
    "El paper que da origen a esta arquitectura puede revisarse [aquí](https://arxiv.org/abs/1512.03385). En este trabajo se establece una comparativa entre VGG-19 y dos redes equivalentes, *plain-network* y *residual-network*, ambas en un rango de 18 a 152 capas de profundidad, aunque con la diferencia de que la última implementa estas unidades residuales modulares entre capas.\n",
    "\n",
    "![resnet3](./img/resnet3.png)\n",
    "\n",
    "Estas capas se mantienen de $3\\times3$, y para arquitecturas de +50 capas se implementan unidades llamadas *bottleneck* que apuntan a mejorar la eficiencia de la red\n",
    "\n",
    "![resnet4](./img/bottleneck.png)\n",
    "\n",
    "Más comparaciones pueden verse en [esta presentación](http://cs231n.stanford.edu/slides/2017/cs231n_2017_lecture9.pdf).\n",
    "\n",
    "\n",
    "### Resultados ImageNet\n",
    "\n",
    "Los resultados de esta red dieron un error de 3.57% según los resultados de la [competencia para 2015](http://www.image-net.org/challenges/LSVRC/2015/results#clsloc), los que le dieron el primer lugar. Este resultado es incluso mejor que el 5% que alcanzan en promedio los humanos.  \n",
    "\n",
    "![resnet2](./img/depth_comparison.jpg)\n"
   ]
  },
  {
   "cell_type": "markdown",
   "metadata": {},
   "source": [
    "# Actividad 2\n",
    "\n",
    "La ejecución de `test_vgg.py` da como resultado lo siguiente\n",
    "\n",
    "```\n",
    "# python3 test_vgg.py \n",
    "La predicción tardó 1192.8822672367096 segundos\n",
    "accuracy: 0.576833333333\n",
    "[[930  38  15  57   8  22  41  14  14  26]\n",
    " [ 31 625  94  38  29  18  36  13  26   9]\n",
    " [ 31 106 320  34  67  27  28  32  25   9]\n",
    " [ 56  48  35 376  20  14  12  16  15   8]\n",
    " [ 11  45  95  18 290  43   7  18  22   4]\n",
    " [ 18  37  65  21  67 189   5  42  14  12]\n",
    " [ 54  37  46   6  20  11 251   7   6   8]\n",
    " [ 11  31  44  10  39  57   3 141  34  17]\n",
    " [ 10  68  30  28  31  22   9  36 130  12]\n",
    " [ 26  20  23  20  18  26  17  19  27 209]]\n",
    "\n",
    "[[ 0.8   0.03  0.01  0.05  0.01  0.02  0.04  0.01  0.01  0.02]\n",
    " [ 0.03  0.68  0.1   0.04  0.03  0.02  0.04  0.01  0.03  0.01]\n",
    " [ 0.05  0.16  0.47  0.05  0.1   0.04  0.04  0.05  0.04  0.01]\n",
    " [ 0.09  0.08  0.06  0.63  0.03  0.02  0.02  0.03  0.02  0.01]\n",
    " [ 0.02  0.08  0.17  0.03  0.52  0.08  0.01  0.03  0.04  0.01]\n",
    " [ 0.04  0.08  0.14  0.04  0.14  0.4   0.01  0.09  0.03  0.03]\n",
    " [ 0.12  0.08  0.1   0.01  0.04  0.02  0.56  0.02  0.01  0.02]\n",
    " [ 0.03  0.08  0.11  0.03  0.1   0.15  0.01  0.36  0.09  0.04]\n",
    " [ 0.03  0.18  0.08  0.07  0.08  0.06  0.02  0.1   0.35  0.03]\n",
    " [ 0.06  0.05  0.06  0.05  0.04  0.06  0.04  0.05  0.07  0.52]]\n",
    "```\n",
    "\n",
    "Mientras que la salida de `test_resnet.py` regresa lo siguiente\n",
    "\n",
    "\n",
    "```\n",
    "grupo12_ml@kraken:~/redes$ python3 test_resnet.py \n",
    "La predicción tardó 562.9957280158997 segundos\n",
    "accuracy: 0.659\n",
    "[[957  31  17  35  15  22  39  15  10  24]\n",
    " [ 24 674  90  36  18  13  25  14  20   5]\n",
    " [ 27  98 369  30  67  17  20  21  23   7]\n",
    " [ 60  54  28 395  10  16  18   4   8   7]\n",
    " [ 25  36  96  15 337  21  12   5   6   0]\n",
    " [ 19  20  44  12  34 265   7  40  16  13]\n",
    " [ 62  35  28  12   9   6 285   1   4   4]\n",
    " [ 17  15  28   8  20  56   3 208  27   5]\n",
    " [ 18  27  21  13  14  25   2  21 219  16]\n",
    " [ 21  13  14   4   3  49   3  21  32 245]]\n",
    "\n",
    "[[ 0.82  0.03  0.01  0.03  0.01  0.02  0.03  0.01  0.01  0.02]\n",
    " [ 0.03  0.73  0.1   0.04  0.02  0.01  0.03  0.02  0.02  0.01]\n",
    " [ 0.04  0.14  0.54  0.04  0.1   0.03  0.03  0.03  0.03  0.01]\n",
    " [ 0.1   0.09  0.05  0.66  0.02  0.03  0.03  0.01  0.01  0.01]\n",
    " [ 0.05  0.07  0.17  0.03  0.61  0.04  0.02  0.01  0.01  0.  ]\n",
    " [ 0.04  0.04  0.09  0.03  0.07  0.56  0.01  0.09  0.03  0.03]\n",
    " [ 0.14  0.08  0.06  0.03  0.02  0.01  0.64  0.    0.01  0.01]\n",
    " [ 0.04  0.04  0.07  0.02  0.05  0.14  0.01  0.54  0.07  0.01]\n",
    " [ 0.05  0.07  0.06  0.03  0.04  0.07  0.01  0.06  0.58  0.04]\n",
    " [ 0.05  0.03  0.03  0.01  0.01  0.12  0.01  0.05  0.08  0.6 ]]\n",
    "```"
   ]
  },
  {
   "cell_type": "markdown",
   "metadata": {},
   "source": [
    "La red VGG logró mejores resultados, con un error de 5.7683% por sobre 6.59% de la red `ResNet`, aunque la primera se demoró casi el doble del tiempo en llegar a este resultado. Esto puede deberse a que la red `VGG` posee una complejidad mucho mayor en términos de la cantidad de parámetros a entrenar, lo que puede verse en los tamaños de las redes en su formato `pickle`, 1.4G versus 632M.\n",
    "\n",
    "```\n",
    "(diplomado) grupo12_ml@kraken:~/redes$ ls -shla\n",
    "total 2.6G\n",
    "632M -rw-r--r-- 1 grupo12_ml grupos_ml 632M Nov 13 01:51 resnet50_model.pkl\n",
    "1.4G -rw-r--r-- 1 grupo12_ml grupos_ml 1.4G Nov 13 01:52 vgg16_model.pkl\n",
    "```\n",
    "\n",
    "Algunas formas de mejorar los resultados es probar con VGG-19 o resnet150, otros modelos explicados más arriba, aunque esto no asegura mejores resultados. \n",
    "\n",
    "A continuación se hace referencia a la matriz de confusión de cada una de las redes. Según la [descripción del dataset](http://ufldl.stanford.edu/housenumbers/) la predicción se hace sobre diez clases correspondientes a los números del 0 al 9."
   ]
  },
  {
   "cell_type": "code",
   "execution_count": 10,
   "metadata": {
    "collapsed": true
   },
   "outputs": [],
   "source": [
    "# gráficos de matrices de confusión\n",
    "import matplotlib.pyplot as plt\n",
    "%matplotlib inline\n",
    "\n",
    "vgg = [[0.8,0.03,0.01,0.05,0.01,0.02,0.04,0.01,0.01,0.02],\n",
    "[0.03,0.68,0.1,0.04,0.03,0.02,0.04,0.01,0.03,0.01],\n",
    "[0.05,0.16,0.47,0.05,0.1,0.04,0.04,0.05,0.04,0.01],\n",
    "[0.09,0.08,0.06,0.63,0.03,0.02,0.02,0.03,0.02,0.01],\n",
    "[0.02,0.08,0.17,0.03,0.52,0.08,0.01,0.03,0.04,0.01],\n",
    "[0.04,0.08,0.14,0.04,0.14,0.4,0.01,0.09,0.03,0.03],\n",
    "[0.12,0.08,0.1,0.01,0.04,0.02,0.56,0.02,0.01,0.02],\n",
    "[0.03,0.08,0.11,0.03,0.1,0.15,0.01,0.36,0.09,0.04],\n",
    "[0.03,0.18,0.08,0.07,0.08,0.06,0.02,0.1,0.35,0.03],\n",
    "[0.06,0.05,0.06,0.05,0.04,0.06,0.04,0.05,0.07,0.52]]\n",
    "\n",
    "resnet = [[ 0.82,0.03,0.01,0.03,0.01,0.02,0.03,0.01,0.01,0.02],\n",
    " [ 0.03,0.73,0.1,0.04,0.02,0.01,0.03,0.02,0.02,0.01],\n",
    " [ 0.04,0.14,0.54,0.04,0.1,0.03,0.03,0.03,0.03,0.01],\n",
    " [ 0.1,0.09,0.05,0.66,0.02,0.03,0.03,0.01,0.01,0.01],\n",
    " [ 0.05,0.07,0.17,0.03,0.61,0.04,0.02,0.01,0.01,0.0  ],\n",
    " [ 0.04,0.04,0.09,0.03,0.07,0.56,0.01,0.09,0.03,0.03],\n",
    " [ 0.14,0.08,0.06,0.03,0.02,0.01,0.64,0.0,0.01,0.01],\n",
    " [ 0.04,0.04,0.07,0.02,0.05,0.14,0.01,0.54,0.07,0.01],\n",
    " [ 0.05,0.07,0.06,0.03,0.04,0.07,0.01,0.06,0.58,0.04],\n",
    " [ 0.05,0.03,0.03,0.01,0.01,0.12,0.01,0.05,0.08,0.6 ]]"
   ]
  },
  {
   "cell_type": "code",
   "execution_count": 12,
   "metadata": {},
   "outputs": [
    {
     "data": {
      "text/plain": [
       "Text(0.5,1,'CM VGG')"
      ]
     },
     "execution_count": 12,
     "metadata": {},
     "output_type": "execute_result"
    },
    {
     "data": {
      "image/png": "[encoded data removed]",
      "text/plain": [
       "<matplotlib.figure.Figure at 0x7f815012afd0>"
      ]
     },
     "metadata": {},
     "output_type": "display_data"
    }
   ],
   "source": [
    "plt.imshow(vgg)\n",
    "plt.colorbar()\n",
    "plt.title('CM VGG')"
   ]
  },
  {
   "cell_type": "code",
   "execution_count": 13,
   "metadata": {},
   "outputs": [
    {
     "data": {
      "text/plain": [
       "Text(0.5,1,'CM ResNet')"
      ]
     },
     "execution_count": 13,
     "metadata": {},
     "output_type": "execute_result"
    },
    {
     "data": {
      "image/png": "[encoded data removed]",
      "text/plain": [
       "<matplotlib.figure.Figure at 0x7f814f4f5710>"
      ]
     },
     "metadata": {},
     "output_type": "display_data"
    }
   ],
   "source": [
    "plt.imshow(resnet)\n",
    "plt.colorbar()\n",
    "plt.title('CM ResNet')"
   ]
  },
  {
   "cell_type": "markdown",
   "metadata": {},
   "source": [
    "# Actividad 3\n",
    "El resultado elegido de la red LSTM es el siguiente"
   ]
  },
  {
   "cell_type": "markdown",
   "metadata": {},
   "source": [
    "```\n",
    "Total Characters: 311144\n",
    "Total Vocab: 40\n",
    "Total Patterns: 311044\n",
    "Seed:\n",
    "\" e habia dado.\n",
    "\n",
    "  todo lo cual hecho y cumplido, sin despedirse panza de sus\n",
    "hijos y mujer, ni don qu \"\n",
    "\n",
    "ijote de la mancha, con la caballeria andante, que esta a eacer una senua para que el pera de la dara la cabazl, y las auena suerte de asuella andar d\n",
    "\n",
    "Done.\n",
    "```"
   ]
  },
  {
   "cell_type": "markdown",
   "metadata": {},
   "source": [
    "El texto entre comillas corresponde a la semilla entregada al sistema, es decir la red intentará continuarlo. Se observa que la combinación **qu** es correctamente como **quijote**, aunque existen varias palabras que no tienen sentido, y sólo se aproximan a una estructura de texto donde existen conectores y sustantivos debidamente distribuidos."
   ]
  },
  {
   "cell_type": "markdown",
   "metadata": {},
   "source": [
    "# Actividad 4"
   ]
  },
  {
   "cell_type": "markdown",
   "metadata": {},
   "source": [
    "```\n",
    "# define the LSTM model\n",
    "model = Sequential()\n",
    "model.add(LSTM(256, return_sequences=True, input_shape=(X.shape[1], X.shape[2]) ))\n",
    "model.add(LSTM(256))\n",
    "model.add(Dropout(0.2))\n",
    "model.add(Dense(y.shape[1], activation='softmax'))\n",
    "model.summary()\n",
    "\n",
    "_________________________________________________________________\n",
    "Layer (type)                 Output Shape              Param #   \n",
    "=================================================================\n",
    "lstm_1 (LSTM)                (None, 100, 256)          264192    \n",
    "_________________________________________________________________\n",
    "lstm_2 (LSTM)                (None, 256)               525312    \n",
    "_________________________________________________________________\n",
    "dropout_1 (Dropout)          (None, 256)               0         \n",
    "_________________________________________________________________\n",
    "dense_1 (Dense)              (None, 40)                10280     \n",
    "=================================================================\n",
    "Total params: 799,784\n",
    "Trainable params: 799,784\n",
    "Non-trainable params: 0\n",
    "_________________________________________________________________\n",
    "```\n",
    "\n",
    "En este caso la dimensionalidad de la entrada es de 1 debido a que se ingresa un caracter a la vez, más un bias adicional. Para la segunda capa los datos de entrada son de dimensionalidad $256+1$, también debido al bias.\n",
    "\n",
    "Siguiendo [esta lógica](http://arunmallya.github.io/writeups/nn/lstm/index.html#/2) se tiene que la cantidad total de parámetros viene dada por \n",
    "\n",
    "$$ 4d(n+d) $$\n",
    "\n",
    "Donde $n$ es la dimensión de la entrada $x$ y $d$ es la cantidad unidades de memoria, de aquí entonces para la primera capa\n",
    "\n",
    "\n",
    "$$ 4\\times((1+1)\\times256+256^{2})= 264192$$\n",
    "\n",
    "Y para la segunda\n",
    "\n",
    "$$ 4\\times((256+1)\\times256+256^{2})= 525312$$\n",
    "\n",
    "Finalmente para la capa densa, la cantidad de parámetros es el resultado de conectar las 256+1 salidas con todas las 40 neuronas\n",
    "\n",
    "$$ (256+1)\\times40=10280 $$\n",
    "\n",
    "\n",
    "\n"
   ]
  },
  {
   "cell_type": "markdown",
   "metadata": {},
   "source": [
    "# Actividad 5\n",
    "Ejecutando el código con dos redes LSTM, da el siguiente resultado"
   ]
  },
  {
   "cell_type": "markdown",
   "metadata": {},
   "source": [
    "\n",
    "```\n",
    "(diplomado) grupo12_ml@kraken:~$  python /opt/bigdata/lab2_ml/generate2.py\n",
    "Using TensorFlow backend.\n",
    "Total Characters: 311144\n",
    "Total Vocab: 40\n",
    "Total Patterns: 311044\n",
    "Seed:\n",
    "\"  porque en efecto eran hombres como\n",
    "nosotros, has de entender tambien que, andando lo mas del tiempo \"\n",
    "\n",
    " que en el corral de la mancha, que es mandado esta a su amo, y a decir esto, que estaba estar a la mano y la mano y la vida de la mancha, que es mand\n",
    "Done.\n",
    "```\n",
    "El resultado de ambas LSTM en serie pareciera añadir coherencia al texto. Considerando que la salida de la primera red LSTM se ingresa a la segunda, pareciera conducir a la redundancia de aquellas palabras que ingresaron a la primera.\n"
   ]
  }
 ],
 "metadata": {
  "kernelspec": {
   "display_name": "Python [conda env:tensor]",
   "language": "python",
   "name": "conda-env-tensor-py"
  },
  "language_info": {
   "codemirror_mode": {
    "name": "ipython",
    "version": 3
   },
   "file_extension": ".py",
   "mimetype": "text/x-python",
   "name": "python",
   "nbconvert_exporter": "python",
   "pygments_lexer": "ipython3",
   "version": "3.6.2"
  },
  "toc": {
   "nav_menu": {},
   "number_sections": true,
   "sideBar": true,
   "skip_h1_title": false,
   "toc_cell": true,
   "toc_position": {},
   "toc_section_display": "block",
   "toc_window_display": true
  }
 },
 "nbformat": 4,
 "nbformat_minor": 2
}
