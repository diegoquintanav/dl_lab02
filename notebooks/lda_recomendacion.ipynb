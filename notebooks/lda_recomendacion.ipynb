{
 "cells": [
  {
   "cell_type": "markdown",
   "metadata": {},
   "source": [
    "# Laboratorio Sistemas Recomendadores\n",
    "\n",
    "> **Grupo**: Andres Altamirano y Diego Quintana\n",
    "\n",
    "> **Entrega de informe:** Miércoles 31 de Mayo\n"
   ]
  },
  {
   "cell_type": "code",
   "execution_count": 1,
   "metadata": {
    "collapsed": false
   },
   "outputs": [],
   "source": [
    "import os\n",
    "import nltk\n",
    "import sklearn\n",
    "import gensim\n",
    "import string\n",
    "import pandas as pd\n",
    "from scipy.sparse import csr_matrix\n",
    "from collections import Counter\n",
    "from nltk.corpus import stopwords\n",
    "from nltk.stem.porter import PorterStemmer \n",
    "from gensim import corpora, models, similarities\n",
    "from sklearn.neighbors import NearestNeighbors"
   ]
  },
  {
   "cell_type": "code",
   "execution_count": 2,
   "metadata": {
    "collapsed": false
   },
   "outputs": [],
   "source": [
    "corpus_df = pd.read_csv('./corpus1.csv', sep='\\t', header=None, encoding='latin')\n",
    "corpus_df.columns = ['id', 'title', 'abstract']\n",
    "corpus_df = corpus_df[['id', 'title', 'abstract']]"
   ]
  },
  {
   "cell_type": "code",
   "execution_count": 3,
   "metadata": {
    "collapsed": false
   },
   "outputs": [],
   "source": [
    "stemm = False\n",
    "stemmer = PorterStemmer()\n",
    "\n",
    "def get_tokens(text):\n",
    "    lowers = text.lower()\n",
    "    no_punctuation = lowers.translate(string.punctuation)\n",
    "    tokens = nltk.word_tokenize(no_punctuation)\n",
    "    if stemm:\n",
    "        tokens = map(stemmer.stem, tokens)\n",
    "    return tokens"
   ]
  },
  {
   "cell_type": "markdown",
   "metadata": {},
   "source": [
    "El siguiente código crea un diccionario y puede tomar un par de minutos"
   ]
  },
  {
   "cell_type": "code",
   "execution_count": 4,
   "metadata": {
    "collapsed": false
   },
   "outputs": [],
   "source": [
    "dic_file = 'resources/dictionary-stemm.p' if stemm else 'resources/dictionary.p'\n",
    "if os.path.isfile(dic_file):\n",
    "    dictionary = corpora.dictionary.Dictionary().load(dic_file)\n",
    "else:\n",
    "    dictionary = corpora.dictionary.Dictionary(documents=corpus_df.tokenised_abstract.tolist())\n",
    "    dictionary.save(dic_file)\n",
    "    \n",
    "corpus_df['tokenised_abstract'] = corpus_df.abstract.map(get_tokens)"
   ]
  },
  {
   "cell_type": "code",
   "execution_count": 5,
   "metadata": {
    "collapsed": false
   },
   "outputs": [],
   "source": [
    "corpus_df['bow'] = corpus_df.tokenised_abstract.map(dictionary.doc2bow)\n",
    "del corpus_df['tokenised_abstract']"
   ]
  },
  {
   "cell_type": "code",
   "execution_count": 6,
   "metadata": {
    "collapsed": true
   },
   "outputs": [],
   "source": [
    "corpus = corpus_df['bow'].tolist()"
   ]
  },
  {
   "cell_type": "markdown",
   "metadata": {},
   "source": [
    "**(1)** Acá creamos la representación del corpus con TF-IDF"
   ]
  },
  {
   "cell_type": "code",
   "execution_count": 7,
   "metadata": {
    "collapsed": false
   },
   "outputs": [],
   "source": [
    "tfidf_model_file = 'resources/tfidf_model-stemm.p' if stemm else 'resources/tfidf_model.p'\n",
    "if os.path.isfile(tfidf_model_file):\n",
    "    tfidf_model = models.tfidfmodel.TfidfModel().load(tfidf_model_file)\n",
    "else:\n",
    "    tfidf_model = models.tfidfmodel.TfidfModel(corpus, dictionary=dictionary)\n",
    "    tfidf_model.save(tfidf_model_file)\n",
    "\n",
    "# tfidf_model = models.tfidfmodel.TfidfModel(corpus, dictionary=dictionary)\n",
    "corpus_df['tf_idf'] = tfidf_model[corpus_df.bow.tolist()]"
   ]
  },
  {
   "cell_type": "markdown",
   "metadata": {},
   "source": [
    "**(2)** Acá creamos la representación del corpus con LDA usando 5 tópicos (Ignoren el mensaje de Warning)"
   ]
  },
  {
   "cell_type": "code",
   "execution_count": 22,
   "metadata": {
    "collapsed": false
   },
   "outputs": [
    {
     "name": "stderr",
     "output_type": "stream",
     "text": [
      "WARNING:gensim.models.ldamodel:no word id mapping provided; initializing from corpus, assuming identity\n",
      "WARNING:gensim.models.ldamodel:too few updates, training might not converge; consider increasing the number of passes or iterations to improve accuracy\n"
     ]
    },
    {
     "name": "stdout",
     "output_type": "stream",
     "text": [
      "CPU times: user 39.7 s, sys: 0 ns, total: 39.7 s\n",
      "Wall time: 39.8 s\n"
     ]
    }
   ],
   "source": [
    "%%time\n",
    "\n",
    "topic_number = 5\n",
    "\n",
    "lda_model = models.LdaModel(corpus, num_topics=topic_number)\n",
    "corpus_df['lda'] = lda_model[corpus_df.bow.tolist()]"
   ]
  },
  {
   "cell_type": "code",
   "execution_count": 9,
   "metadata": {
    "collapsed": true
   },
   "outputs": [],
   "source": [
    "corpus_df['lda'] = lda_model[corpus_df.bow.tolist()]"
   ]
  },
  {
   "cell_type": "markdown",
   "metadata": {},
   "source": [
    "Acá vamos a muestrear 3 documentos del corpus aleatoriamente, vamos a suponer que son los documentos favoritos de un usuario 'x'"
   ]
  },
  {
   "cell_type": "code",
   "execution_count": 10,
   "metadata": {
    "collapsed": false
   },
   "outputs": [
    {
     "name": "stdout",
     "output_type": "stream",
     "text": [
      "1) Bounds on the Efficiency of Message-Passing Protocols for Parallel Computers\n",
      "\n",
      "This paper considers the problem of creating message-passing protocols for parallel computers. It is assumed that the processors are connected by a network that provides guaranteed delivery of every message, provided that each message delivered by the network is removed by the receiving processor unconditionally and in finite time. Two models of message-passing are considered, namely a selective model in which the receiver specifies the source of the message, and a nonselective model in which the receiver accepts messages from all sources. We consider only space-efficient protocols in which each processor has storage for a constant number of messages and message headers. We present three main results. First, we give a protocol for the selective model that performs a constant amount of communication per send or receive posted by the application. Second, we prove that no such efficient protocol exists for the nonselective model. Third, we present a protocol for the nonselective model tha...\n",
      "\n",
      "\n",
      "2) A Network Calculus with Effective Bandwidth\n",
      "\n",
      "This paper establishes a link between two principal tools for the analysis of network traffic, namely, effective bandwidth and network calculus. It is shown that a general formulation of effective bandwidth can be expressed within the framework of a probabilistic version of the network calculus, where both arrivals and service are specified in terms of probabilistic bounds. By formulating well-known effective bandwidth expressions in terms of probabilistic envelope functions, the developed network calculus can be applied to a wide range of traffic types, including traffic that has self-similar characteristics. As applications, probabilistic lower bounds are presented on the service given by three different scheduling algorithms: Static Priority (SP), Earliest Deadline First (EDF), and Generalized Processor Sharing (GPS). Numerical examples show the impact of the traffic models and the scheduling algorithm on the multiplexing gain in a network.\n",
      "\n",
      "\n",
      "3) Hierarchical Non-linear Factor Analysis and Topographic Maps\n",
      "\n",
      "We first describe a hierarchical, generative model that can be viewed as a non-linear generalisation of factor analysis and can be implemented in a neural network. The model performs perceptual inference in a probabilistically consistent manner by using top-down, bottom-up and lateral connections. These connections can be learned using simple rules that require only locally available information. We then show how to incorporate lateral connections into the generative model. The model extracts a sparse, distributed, hierarchical representation of depth from simplified random-dot stereograms and the localised disparity detectors in the first hidden layer form a topographic map. When presented with image patches from natural scenes, the model develops topographically organised local feature detectors. 1 Introduction Factor analysis is a probabilistic model for real-valued data which assumes that the data is a linear combination of real-valued uncorrelated Gaussian sources (the factors). ...\n",
      "\n",
      "\n"
     ]
    }
   ],
   "source": [
    "samples = corpus_df.sample(3)\n",
    "\n",
    "for n, (ix, paper) in enumerate(samples.iterrows()):\n",
    "    idx, title, abstract, bow, tf_idf, lda = paper\n",
    "    print '%d) %s' % (n+1, title)\n",
    "    print ''\n",
    "    print abstract\n",
    "    print '\\n' "
   ]
  },
  {
   "cell_type": "markdown",
   "metadata": {},
   "source": [
    "#### El siguiente es una función necesaria para procesar LDA"
   ]
  },
  {
   "cell_type": "code",
   "execution_count": 11,
   "metadata": {
    "collapsed": true
   },
   "outputs": [],
   "source": [
    "def to_sparse(matrix):\n",
    "    return csr_matrix([gensim.matutils.sparse2full(row, length=N) for row in matrix]) "
   ]
  },
  {
   "cell_type": "markdown",
   "metadata": {},
   "source": [
    "##Actividad\n",
    "Ejecute el código siguiente haciendo los siguientes cambios de parametros:\n",
    "\n",
    "** nearest_neighbors : 5, 10, 20 **\n",
    "¿qué efecto tiene el modelo en las recomendaciones observadas?\n",
    "\n",
    "Eligiendo un valor fijo para nearest neighbors, ejecute\n",
    "** metric = 'cosine' **\n",
    "¿qué efecto tiene la métrica de distancia en las recomendaciones observadas?\n",
    "\n",
    "Eligiendo un valor fijo de nearest_neighbors y metric\n",
    "** model : 'lda' **\n",
    "¿qué efecto tiene el usar LDA versus TF-IDF en las recomendaciones observadas?\n",
    "\n",
    "Pruebe nuevamente con LDA usando sólo 5 tópicos, rehacer modelo más arriba en **(2)**\n",
    "¿qué efecto tiene el número de tópicos en las recomendaciones observadas?"
   ]
  },
  {
   "cell_type": "code",
   "execution_count": 12,
   "metadata": {
    "collapsed": false
   },
   "outputs": [],
   "source": [
    "model = 'tf_idf' # 'lda' 'tf_idf'\n",
    "nearest_neighbors = 5\n",
    "metric = 'euclidean' # 'cosine' 'euclidean'\n",
    "M = len(corpus)\n",
    "N = len(dictionary)\n",
    "\n",
    "X = to_sparse(corpus_df[model].tolist())\n",
    "document_index = NearestNeighbors(n_neighbors=(nearest_neighbors+1), algorithm='brute', metric=metric).fit(X)"
   ]
  },
  {
   "cell_type": "code",
   "execution_count": 13,
   "metadata": {
    "collapsed": false
   },
   "outputs": [
    {
     "name": "stderr",
     "output_type": "stream",
     "text": [
      "/usr/local/lib/python2.7/dist-packages/sklearn/utils/validation.py:395: DeprecationWarning: Passing 1d arrays as data is deprecated in 0.17 and will raise ValueError in 0.19. Reshape your data either using X.reshape(-1, 1) if your data has a single feature or X.reshape(1, -1) if it contains a single sample.\n",
      "  DeprecationWarning)\n",
      "/usr/local/lib/python2.7/dist-packages/sklearn/utils/validation.py:395: DeprecationWarning: Passing 1d arrays as data is deprecated in 0.17 and will raise ValueError in 0.19. Reshape your data either using X.reshape(-1, 1) if your data has a single feature or X.reshape(1, -1) if it contains a single sample.\n",
      "  DeprecationWarning)\n",
      "/usr/local/lib/python2.7/dist-packages/sklearn/utils/validation.py:395: DeprecationWarning: Passing 1d arrays as data is deprecated in 0.17 and will raise ValueError in 0.19. Reshape your data either using X.reshape(-1, 1) if your data has a single feature or X.reshape(1, -1) if it contains a single sample.\n",
      "  DeprecationWarning)\n"
     ]
    },
    {
     "name": "stdout",
     "output_type": "stream",
     "text": [
      "Bounds on the Efficiency of Message-Passing Protocols for Parallel Computers\n",
      "\n",
      "Documentos cercanos: \n",
      "1. An Atomic Model for Message-Passing\n",
      "2. Universal Continuous Routing Strategies\n",
      "3. Trade-Offs in Implementing Optimal Message Logging Protocols\n",
      "4. Object-Oriented Open Implementation of Reliable Communication Protocols\n",
      "5. Systematic Design of Two-Party Authentication Protocols*\n",
      "\n",
      "\n",
      "A Network Calculus with Effective Bandwidth\n",
      "\n",
      "Documentos cercanos: \n",
      "1. A New Approach for Allocating Buffers and Bandwidth to Heterogeneous, Regulated Traffic in an ATM Node\n",
      "2. Passive Traffic Measurement for IP Operations\n",
      "3. Graph Wavelets for Spatial Traffic Analysis\n",
      "4. On the Effect of Traffic Self-Similarity on Network Performance\n",
      "5. Rapid Model Parameterization from Traffic Measurements\n",
      "\n",
      "\n",
      "Hierarchical Non-linear Factor Analysis and Topographic Maps\n",
      "\n",
      "Documentos cercanos: \n",
      "1. Self-Organizing Feature Maps with Lateral Connections: Modeling Ocular Dominance\n",
      "2. Scale-space Properties of Quadratic Feature Detectors\n",
      "3. How Lateral Interaction Develops in a Self-Organizing Feature Map\n",
      "4. A Unified Neural Network Model for the Self-organization of Topographic Receptive Fields and Lateral Interaction\n",
      "5. Factor Analysis Using Delta-Rule Wake-Sleep Learning\n",
      "\n",
      "\n"
     ]
    }
   ],
   "source": [
    "for n, (ix, paper) in enumerate(samples.iterrows()):\n",
    "    dists, neighbors = document_index.kneighbors(gensim.matutils.sparse2full(paper[model],length=N))\n",
    "    print paper['title']\n",
    "    print ''\n",
    "    print 'Documentos cercanos: '\n",
    "    i = 1\n",
    "    for neighbour in neighbors[0]:\n",
    "        if ix != neighbour:\n",
    "            line = str(i) + \". \" + corpus_df.iloc[neighbour]['title']\n",
    "            print line\n",
    "            i+=1\n",
    "    print '\\n' "
   ]
  },
  {
   "cell_type": "markdown",
   "metadata": {
    "collapsed": true
   },
   "source": [
    "# Respuestas\n",
    "\n",
    "Ejecute el código siguiente haciendo los siguientes cambios de parametros:\n"
   ]
  },
  {
   "cell_type": "markdown",
   "metadata": {},
   "source": [
    "## Modificación del parámetro `nearest_neighbors`\n",
    "nearest_neighbors : 5, 10, 20 ¿qué efecto tiene el modelo en las recomendaciones observadas?\n",
    "\n",
    "### Respuesta:\n",
    "Al revisar los títulos recomendados sólo se observa que aumenta la cantidad de documentos en la lista. No se encontraron diferencias mas allá de la cantidad. El título de los 5 primeros se mantienen en los dos casos siguientes, así como los 10 primeros en el último caso."
   ]
  },
  {
   "cell_type": "code",
   "execution_count": 14,
   "metadata": {
    "collapsed": false,
    "scrolled": false
   },
   "outputs": [
    {
     "data": {
      "text/markdown": [
       "# neighbors =  5"
      ],
      "text/plain": [
       "<IPython.core.display.Markdown object>"
      ]
     },
     "metadata": {},
     "output_type": "display_data"
    },
    {
     "name": "stdout",
     "output_type": "stream",
     "text": [
      "Tiempo to_sparse: 11.3871970177\n",
      "Tiempo NN fit   : 0.0441038608551\n"
     ]
    },
    {
     "name": "stderr",
     "output_type": "stream",
     "text": [
      "/usr/local/lib/python2.7/dist-packages/sklearn/utils/validation.py:395: DeprecationWarning: Passing 1d arrays as data is deprecated in 0.17 and will raise ValueError in 0.19. Reshape your data either using X.reshape(-1, 1) if your data has a single feature or X.reshape(1, -1) if it contains a single sample.\n",
      "  DeprecationWarning)\n"
     ]
    },
    {
     "data": {
      "text/markdown": [
       "## Titulo: Bounds on the Efficiency of Message-Passing Protocols for Parallel Computers"
      ],
      "text/plain": [
       "<IPython.core.display.Markdown object>"
      ]
     },
     "metadata": {},
     "output_type": "display_data"
    },
    {
     "data": {
      "text/markdown": [
       "### Documentos cercanos"
      ],
      "text/plain": [
       "<IPython.core.display.Markdown object>"
      ]
     },
     "metadata": {},
     "output_type": "display_data"
    },
    {
     "name": "stdout",
     "output_type": "stream",
     "text": [
      "1. An Atomic Model for Message-Passing\n",
      "2. Universal Continuous Routing Strategies\n",
      "3. Trade-Offs in Implementing Optimal Message Logging Protocols\n",
      "4. Object-Oriented Open Implementation of Reliable Communication Protocols\n",
      "5. Systematic Design of Two-Party Authentication Protocols*\n",
      "\n",
      "\n"
     ]
    },
    {
     "name": "stderr",
     "output_type": "stream",
     "text": [
      "/usr/local/lib/python2.7/dist-packages/sklearn/utils/validation.py:395: DeprecationWarning: Passing 1d arrays as data is deprecated in 0.17 and will raise ValueError in 0.19. Reshape your data either using X.reshape(-1, 1) if your data has a single feature or X.reshape(1, -1) if it contains a single sample.\n",
      "  DeprecationWarning)\n"
     ]
    },
    {
     "data": {
      "text/markdown": [
       "## Titulo: A Network Calculus with Effective Bandwidth"
      ],
      "text/plain": [
       "<IPython.core.display.Markdown object>"
      ]
     },
     "metadata": {},
     "output_type": "display_data"
    },
    {
     "data": {
      "text/markdown": [
       "### Documentos cercanos"
      ],
      "text/plain": [
       "<IPython.core.display.Markdown object>"
      ]
     },
     "metadata": {},
     "output_type": "display_data"
    },
    {
     "name": "stdout",
     "output_type": "stream",
     "text": [
      "1. A New Approach for Allocating Buffers and Bandwidth to Heterogeneous, Regulated Traffic in an ATM Node\n",
      "2. Passive Traffic Measurement for IP Operations\n",
      "3. Graph Wavelets for Spatial Traffic Analysis\n",
      "4. On the Effect of Traffic Self-Similarity on Network Performance\n",
      "5. Rapid Model Parameterization from Traffic Measurements\n",
      "\n",
      "\n"
     ]
    },
    {
     "name": "stderr",
     "output_type": "stream",
     "text": [
      "/usr/local/lib/python2.7/dist-packages/sklearn/utils/validation.py:395: DeprecationWarning: Passing 1d arrays as data is deprecated in 0.17 and will raise ValueError in 0.19. Reshape your data either using X.reshape(-1, 1) if your data has a single feature or X.reshape(1, -1) if it contains a single sample.\n",
      "  DeprecationWarning)\n"
     ]
    },
    {
     "data": {
      "text/markdown": [
       "## Titulo: Hierarchical Non-linear Factor Analysis and Topographic Maps"
      ],
      "text/plain": [
       "<IPython.core.display.Markdown object>"
      ]
     },
     "metadata": {},
     "output_type": "display_data"
    },
    {
     "data": {
      "text/markdown": [
       "### Documentos cercanos"
      ],
      "text/plain": [
       "<IPython.core.display.Markdown object>"
      ]
     },
     "metadata": {},
     "output_type": "display_data"
    },
    {
     "name": "stdout",
     "output_type": "stream",
     "text": [
      "1. Self-Organizing Feature Maps with Lateral Connections: Modeling Ocular Dominance\n",
      "2. Scale-space Properties of Quadratic Feature Detectors\n",
      "3. How Lateral Interaction Develops in a Self-Organizing Feature Map\n",
      "4. A Unified Neural Network Model for the Self-organization of Topographic Receptive Fields and Lateral Interaction\n",
      "5. Factor Analysis Using Delta-Rule Wake-Sleep Learning\n",
      "\n",
      "\n"
     ]
    },
    {
     "data": {
      "text/markdown": [
       "# neighbors =  10"
      ],
      "text/plain": [
       "<IPython.core.display.Markdown object>"
      ]
     },
     "metadata": {},
     "output_type": "display_data"
    },
    {
     "name": "stdout",
     "output_type": "stream",
     "text": [
      "Tiempo to_sparse: 25.065032959\n",
      "Tiempo NN fit   : 0.0741899013519\n"
     ]
    },
    {
     "name": "stderr",
     "output_type": "stream",
     "text": [
      "/usr/local/lib/python2.7/dist-packages/sklearn/utils/validation.py:395: DeprecationWarning: Passing 1d arrays as data is deprecated in 0.17 and will raise ValueError in 0.19. Reshape your data either using X.reshape(-1, 1) if your data has a single feature or X.reshape(1, -1) if it contains a single sample.\n",
      "  DeprecationWarning)\n"
     ]
    },
    {
     "data": {
      "text/markdown": [
       "## Titulo: Bounds on the Efficiency of Message-Passing Protocols for Parallel Computers"
      ],
      "text/plain": [
       "<IPython.core.display.Markdown object>"
      ]
     },
     "metadata": {},
     "output_type": "display_data"
    },
    {
     "data": {
      "text/markdown": [
       "### Documentos cercanos"
      ],
      "text/plain": [
       "<IPython.core.display.Markdown object>"
      ]
     },
     "metadata": {},
     "output_type": "display_data"
    },
    {
     "name": "stdout",
     "output_type": "stream",
     "text": [
      "1. An Atomic Model for Message-Passing\n",
      "2. Universal Continuous Routing Strategies\n",
      "3. Trade-Offs in Implementing Optimal Message Logging Protocols\n",
      "4. Object-Oriented Open Implementation of Reliable Communication Protocols\n",
      "5. Systematic Design of Two-Party Authentication Protocols*\n",
      "6. A knowledge-based algorithm for the Internet protocol TCP\n",
      "7. Nonblocking and Orphan-Free Message Logging Protocols\n",
      "8. A Probabilistically Correct Leader Election Protocol for Large Groups\n",
      "9. A Unified and Generalized Treatment of Authentication Theory\n",
      "10. Distributed Constraint Reasoning under Unreliable Communication\n",
      "\n",
      "\n"
     ]
    },
    {
     "name": "stderr",
     "output_type": "stream",
     "text": [
      "/usr/local/lib/python2.7/dist-packages/sklearn/utils/validation.py:395: DeprecationWarning: Passing 1d arrays as data is deprecated in 0.17 and will raise ValueError in 0.19. Reshape your data either using X.reshape(-1, 1) if your data has a single feature or X.reshape(1, -1) if it contains a single sample.\n",
      "  DeprecationWarning)\n"
     ]
    },
    {
     "data": {
      "text/markdown": [
       "## Titulo: A Network Calculus with Effective Bandwidth"
      ],
      "text/plain": [
       "<IPython.core.display.Markdown object>"
      ]
     },
     "metadata": {},
     "output_type": "display_data"
    },
    {
     "data": {
      "text/markdown": [
       "### Documentos cercanos"
      ],
      "text/plain": [
       "<IPython.core.display.Markdown object>"
      ]
     },
     "metadata": {},
     "output_type": "display_data"
    },
    {
     "name": "stdout",
     "output_type": "stream",
     "text": [
      "1. A New Approach for Allocating Buffers and Bandwidth to Heterogeneous, Regulated Traffic in an ATM Node\n",
      "2. Passive Traffic Measurement for IP Operations\n",
      "3. Graph Wavelets for Spatial Traffic Analysis\n",
      "4. On the Effect of Traffic Self-Similarity on Network Performance\n",
      "5. Rapid Model Parameterization from Traffic Measurements\n",
      "6. Traffic Engineering With Traditional IP Routing Protocols\n",
      "7. On the Relevance of Time Scales in Performance Oriented Traffic Characterizations\n",
      "8. On Bandwidth Smoothing\n",
      "9. Earliest Deadline Scheduling for Real-Time Database Systems\n",
      "10. Efficient Network QoS Provisioning Based on per Node Traffic Shaping\n",
      "\n",
      "\n"
     ]
    },
    {
     "name": "stderr",
     "output_type": "stream",
     "text": [
      "/usr/local/lib/python2.7/dist-packages/sklearn/utils/validation.py:395: DeprecationWarning: Passing 1d arrays as data is deprecated in 0.17 and will raise ValueError in 0.19. Reshape your data either using X.reshape(-1, 1) if your data has a single feature or X.reshape(1, -1) if it contains a single sample.\n",
      "  DeprecationWarning)\n"
     ]
    },
    {
     "data": {
      "text/markdown": [
       "## Titulo: Hierarchical Non-linear Factor Analysis and Topographic Maps"
      ],
      "text/plain": [
       "<IPython.core.display.Markdown object>"
      ]
     },
     "metadata": {},
     "output_type": "display_data"
    },
    {
     "data": {
      "text/markdown": [
       "### Documentos cercanos"
      ],
      "text/plain": [
       "<IPython.core.display.Markdown object>"
      ]
     },
     "metadata": {},
     "output_type": "display_data"
    },
    {
     "name": "stdout",
     "output_type": "stream",
     "text": [
      "1. Self-Organizing Feature Maps with Lateral Connections: Modeling Ocular Dominance\n",
      "2. Scale-space Properties of Quadratic Feature Detectors\n",
      "3. How Lateral Interaction Develops in a Self-Organizing Feature Map\n",
      "4. A Unified Neural Network Model for the Self-organization of Topographic Receptive Fields and Lateral Interaction\n",
      "5. Factor Analysis Using Delta-Rule Wake-Sleep Learning\n",
      "6. Stereo Image Compression with Disparity Compensation Using the MRF Model\n",
      "7. The Growing Hierarchical Self-Organizing Map: Exploratory Analysis of High-Dimensional Data\n",
      "8. Self-Organization and Functional Role of Lateral Connections and Multisize Receptive Fields in the Primary Visual Cortex\n",
      "9. Processing Images By Semi-Linear Predictability Minimization\n",
      "10. Computing Stereo Disparity and Motion with Known Binocular Cell Properties\n",
      "\n",
      "\n"
     ]
    },
    {
     "data": {
      "text/markdown": [
       "# neighbors =  20"
      ],
      "text/plain": [
       "<IPython.core.display.Markdown object>"
      ]
     },
     "metadata": {},
     "output_type": "display_data"
    },
    {
     "name": "stdout",
     "output_type": "stream",
     "text": [
      "Tiempo to_sparse: 17.0441319942\n",
      "Tiempo NN fit   : 0.0351529121399\n"
     ]
    },
    {
     "name": "stderr",
     "output_type": "stream",
     "text": [
      "/usr/local/lib/python2.7/dist-packages/sklearn/utils/validation.py:395: DeprecationWarning: Passing 1d arrays as data is deprecated in 0.17 and will raise ValueError in 0.19. Reshape your data either using X.reshape(-1, 1) if your data has a single feature or X.reshape(1, -1) if it contains a single sample.\n",
      "  DeprecationWarning)\n"
     ]
    },
    {
     "data": {
      "text/markdown": [
       "## Titulo: Bounds on the Efficiency of Message-Passing Protocols for Parallel Computers"
      ],
      "text/plain": [
       "<IPython.core.display.Markdown object>"
      ]
     },
     "metadata": {},
     "output_type": "display_data"
    },
    {
     "data": {
      "text/markdown": [
       "### Documentos cercanos"
      ],
      "text/plain": [
       "<IPython.core.display.Markdown object>"
      ]
     },
     "metadata": {},
     "output_type": "display_data"
    },
    {
     "name": "stdout",
     "output_type": "stream",
     "text": [
      "1. An Atomic Model for Message-Passing\n",
      "2. Universal Continuous Routing Strategies\n",
      "3. Trade-Offs in Implementing Optimal Message Logging Protocols\n",
      "4. Object-Oriented Open Implementation of Reliable Communication Protocols\n",
      "5. Systematic Design of Two-Party Authentication Protocols*\n",
      "6. A knowledge-based algorithm for the Internet protocol TCP\n",
      "7. Nonblocking and Orphan-Free Message Logging Protocols\n",
      "8. A Probabilistically Correct Leader Election Protocol for Large Groups\n",
      "9. A Unified and Generalized Treatment of Authentication Theory\n",
      "10. Distributed Constraint Reasoning under Unreliable Communication\n",
      "11. Four Issues Concerning the Semantics of Message Flow Graphs\n",
      "12. A Routing Scheme for Content-Based Networking\n",
      "13. MIME (Multipurpose Internet Mail Extensions) Part One: Mechanisms for Specifying and Describing the Format of Internet\n",
      "14. A Note on Redundancy in Encrypted Messages\n",
      "15. Volatile Logging in n-Fault-Tolerant Distributed Systems\n",
      "16. Verification Techniques for Cache Coherence Protocols.\n",
      "17. Scalable Atomic Multicast\n",
      "18. Supporting Multiple Quality of Service Options with High Performance Groupware\n",
      "19. Selective Specialization for Object-Oriented Languages\n",
      "20. Shared Memory Implementation of A Parallel Switch-Level Circuit Simulator\n",
      "\n",
      "\n"
     ]
    },
    {
     "name": "stderr",
     "output_type": "stream",
     "text": [
      "/usr/local/lib/python2.7/dist-packages/sklearn/utils/validation.py:395: DeprecationWarning: Passing 1d arrays as data is deprecated in 0.17 and will raise ValueError in 0.19. Reshape your data either using X.reshape(-1, 1) if your data has a single feature or X.reshape(1, -1) if it contains a single sample.\n",
      "  DeprecationWarning)\n"
     ]
    },
    {
     "data": {
      "text/markdown": [
       "## Titulo: A Network Calculus with Effective Bandwidth"
      ],
      "text/plain": [
       "<IPython.core.display.Markdown object>"
      ]
     },
     "metadata": {},
     "output_type": "display_data"
    },
    {
     "data": {
      "text/markdown": [
       "### Documentos cercanos"
      ],
      "text/plain": [
       "<IPython.core.display.Markdown object>"
      ]
     },
     "metadata": {},
     "output_type": "display_data"
    },
    {
     "name": "stdout",
     "output_type": "stream",
     "text": [
      "1. A New Approach for Allocating Buffers and Bandwidth to Heterogeneous, Regulated Traffic in an ATM Node\n",
      "2. Passive Traffic Measurement for IP Operations\n",
      "3. Graph Wavelets for Spatial Traffic Analysis\n",
      "4. On the Effect of Traffic Self-Similarity on Network Performance\n",
      "5. Rapid Model Parameterization from Traffic Measurements\n",
      "6. Traffic Engineering With Traditional IP Routing Protocols\n",
      "7. On the Relevance of Time Scales in Performance Oriented Traffic Characterizations\n",
      "8. On Bandwidth Smoothing\n",
      "9. Earliest Deadline Scheduling for Real-Time Database Systems\n",
      "10. Efficient Network QoS Provisioning Based on per Node Traffic Shaping\n",
      "11. Statistical Per-Flow Service Bounds in a Network with Aggregate Provisioning\n",
      "12. Analysis of an ATM Buffer with Self-Similar (Fractal) Input Traffic\n",
      "13. Experimental Queueing Analysis with Long-Range Dependent Packet Traffic\n",
      "14. Link Capacity Allocation and Network Control by Filtered Input Rate in High Speed Networks\n",
      "15. Fast, Approximate Synthesis of Fractional Gaussian Noise for Generating Self-Similar Network Traffic\n",
      "16. A Storage Model With Self-Similar Input\n",
      "17. Algebraic Reasoning for Probabilistic Concurrent Systems\n",
      "18. Timescale of Interest in Traffic Measurement for Link Bandwidth Allocation Design\n",
      "19. Data networks as cascades: Investigating the multifractal nature of Internet WAN traffic\n",
      "20. A Probabilistically Correct Leader Election Protocol for Large Groups\n",
      "\n",
      "\n"
     ]
    },
    {
     "name": "stderr",
     "output_type": "stream",
     "text": [
      "/usr/local/lib/python2.7/dist-packages/sklearn/utils/validation.py:395: DeprecationWarning: Passing 1d arrays as data is deprecated in 0.17 and will raise ValueError in 0.19. Reshape your data either using X.reshape(-1, 1) if your data has a single feature or X.reshape(1, -1) if it contains a single sample.\n",
      "  DeprecationWarning)\n"
     ]
    },
    {
     "data": {
      "text/markdown": [
       "## Titulo: Hierarchical Non-linear Factor Analysis and Topographic Maps"
      ],
      "text/plain": [
       "<IPython.core.display.Markdown object>"
      ]
     },
     "metadata": {},
     "output_type": "display_data"
    },
    {
     "data": {
      "text/markdown": [
       "### Documentos cercanos"
      ],
      "text/plain": [
       "<IPython.core.display.Markdown object>"
      ]
     },
     "metadata": {},
     "output_type": "display_data"
    },
    {
     "name": "stdout",
     "output_type": "stream",
     "text": [
      "1. Self-Organizing Feature Maps with Lateral Connections: Modeling Ocular Dominance\n",
      "2. Scale-space Properties of Quadratic Feature Detectors\n",
      "3. How Lateral Interaction Develops in a Self-Organizing Feature Map\n",
      "4. A Unified Neural Network Model for the Self-organization of Topographic Receptive Fields and Lateral Interaction\n",
      "5. Factor Analysis Using Delta-Rule Wake-Sleep Learning\n",
      "6. Stereo Image Compression with Disparity Compensation Using the MRF Model\n",
      "7. The Growing Hierarchical Self-Organizing Map: Exploratory Analysis of High-Dimensional Data\n",
      "8. Self-Organization and Functional Role of Lateral Connections and Multisize Receptive Fields in the Primary Visual Cortex\n",
      "9. Processing Images By Semi-Linear Predictability Minimization\n",
      "10. Computing Stereo Disparity and Motion with Known Binocular Cell Properties\n",
      "11. Using Real-Valued Genetic Algorithms to Evolve Rule Sets for Classification\n",
      "12. A Simple Algorithm for Topic Identification in 0-1 Data\n",
      "13. Kalman Filter-based Algorithms for Estimating Depth from Image Sequences\n",
      "14. The Inherent Price of Indulgence\n",
      "15. Measuring Bottleneck Link Speed in Packet-Switched Networks\n",
      "16. Stochastic Phonological Grammars and Acceptability\n",
      "17. Reduce Connection Awareness\n",
      "18. Multiple Cause Vector Quantization\n",
      "19. A Generative Model for Music Transcription\n",
      "20. A Round Trip Time and Time-out Aware Traffic Conditioner for Differentiated Services Networks\n",
      "\n",
      "\n"
     ]
    }
   ],
   "source": [
    "import time\n",
    "from IPython.display import display, Markdown\n",
    "# Se define arreglo con los distintos valores para nearest_neighbors\n",
    "neighbors_arr=[5,10,20]\n",
    "\n",
    "for nearest_neighbors in neighbors_arr:\n",
    "    display(Markdown(\"# neighbors =  \" + str(nearest_neighbors)))\n",
    "\n",
    "    model = 'tf_idf' # 'lda' 'tf_idf'\n",
    "    #nearest_neighbors = 5\n",
    "    metric = 'euclidean' # 'cosine' 'euclidean'\n",
    "    M = len(corpus)\n",
    "    N = len(dictionary)\n",
    "\n",
    "    s_time=time.time()\n",
    "    X = to_sparse(corpus_df[model].tolist())\n",
    "    ttts=time.time() - s_time\n",
    "    \n",
    "    s_time=time.time()\n",
    "    document_index = NearestNeighbors(n_neighbors=(nearest_neighbors+1), algorithm='brute', metric=metric).fit(X)\n",
    "    tfit=time.time() - s_time\n",
    "    \n",
    "    print \"Tiempo to_sparse:\", ttts\n",
    "    print \"Tiempo NN fit   :\", tfit\n",
    "    \n",
    "    for n, (ix, paper) in enumerate(samples.iterrows()):\n",
    "        dists, neighbors = document_index.kneighbors(gensim.matutils.sparse2full(paper[model],length=N))\n",
    "        display(Markdown(\"## Titulo: \" + paper['title']))\n",
    "        #print paper['title']\n",
    "        display(Markdown(\"### Documentos cercanos\"))\n",
    "\n",
    "        #print 'Documentos cercanos: '\n",
    "        i = 1\n",
    "        for neighbour in neighbors[0]:\n",
    "            if ix != neighbour:\n",
    "                line = str(i) + \". \" + corpus_df.iloc[neighbour]['title']\n",
    "                print line\n",
    "                i+=1\n",
    "        print '\\n' "
   ]
  },
  {
   "cell_type": "markdown",
   "metadata": {},
   "source": [
    "## metric = cosine\n",
    "Eligiendo un valor fijo para nearest neighbors, ejecute\n",
    "** metric = 'cosine' **\n",
    "¿qué efecto tiene la métrica de distancia en las recomendaciones observadas?\n",
    "### Respuesta:\n",
    "De la misma forma que en el caso anterior, no se ve variación mas allá de la cantidad de items recomendados.\n"
   ]
  },
  {
   "cell_type": "code",
   "execution_count": 15,
   "metadata": {
    "collapsed": false
   },
   "outputs": [
    {
     "data": {
      "text/markdown": [
       "# `neighbors=10` y `metric='cosine'`"
      ],
      "text/plain": [
       "<IPython.core.display.Markdown object>"
      ]
     },
     "metadata": {},
     "output_type": "display_data"
    },
    {
     "name": "stdout",
     "output_type": "stream",
     "text": [
      "Tiempo to_sparse: 18.8653659821\n",
      "Tiempo NN fit   : 0.0730140209198\n"
     ]
    },
    {
     "name": "stderr",
     "output_type": "stream",
     "text": [
      "/usr/local/lib/python2.7/dist-packages/sklearn/utils/validation.py:395: DeprecationWarning: Passing 1d arrays as data is deprecated in 0.17 and will raise ValueError in 0.19. Reshape your data either using X.reshape(-1, 1) if your data has a single feature or X.reshape(1, -1) if it contains a single sample.\n",
      "  DeprecationWarning)\n"
     ]
    },
    {
     "data": {
      "text/markdown": [
       "## Titulo: Bounds on the Efficiency of Message-Passing Protocols for Parallel Computers"
      ],
      "text/plain": [
       "<IPython.core.display.Markdown object>"
      ]
     },
     "metadata": {},
     "output_type": "display_data"
    },
    {
     "data": {
      "text/markdown": [
       "### Documentos cercanos"
      ],
      "text/plain": [
       "<IPython.core.display.Markdown object>"
      ]
     },
     "metadata": {},
     "output_type": "display_data"
    },
    {
     "name": "stdout",
     "output_type": "stream",
     "text": [
      "1. An Atomic Model for Message-Passing\n",
      "2. Universal Continuous Routing Strategies\n",
      "3. Trade-Offs in Implementing Optimal Message Logging Protocols\n",
      "4. Object-Oriented Open Implementation of Reliable Communication Protocols\n",
      "5. Systematic Design of Two-Party Authentication Protocols*\n",
      "6. A knowledge-based algorithm for the Internet protocol TCP\n",
      "7. Nonblocking and Orphan-Free Message Logging Protocols\n",
      "8. A Probabilistically Correct Leader Election Protocol for Large Groups\n",
      "9. A Unified and Generalized Treatment of Authentication Theory\n",
      "10. Distributed Constraint Reasoning under Unreliable Communication\n",
      "\n",
      "\n"
     ]
    },
    {
     "name": "stderr",
     "output_type": "stream",
     "text": [
      "/usr/local/lib/python2.7/dist-packages/sklearn/utils/validation.py:395: DeprecationWarning: Passing 1d arrays as data is deprecated in 0.17 and will raise ValueError in 0.19. Reshape your data either using X.reshape(-1, 1) if your data has a single feature or X.reshape(1, -1) if it contains a single sample.\n",
      "  DeprecationWarning)\n"
     ]
    },
    {
     "data": {
      "text/markdown": [
       "## Titulo: A Network Calculus with Effective Bandwidth"
      ],
      "text/plain": [
       "<IPython.core.display.Markdown object>"
      ]
     },
     "metadata": {},
     "output_type": "display_data"
    },
    {
     "data": {
      "text/markdown": [
       "### Documentos cercanos"
      ],
      "text/plain": [
       "<IPython.core.display.Markdown object>"
      ]
     },
     "metadata": {},
     "output_type": "display_data"
    },
    {
     "name": "stdout",
     "output_type": "stream",
     "text": [
      "1. A New Approach for Allocating Buffers and Bandwidth to Heterogeneous, Regulated Traffic in an ATM Node\n",
      "2. Passive Traffic Measurement for IP Operations\n",
      "3. Graph Wavelets for Spatial Traffic Analysis\n",
      "4. On the Effect of Traffic Self-Similarity on Network Performance\n",
      "5. Rapid Model Parameterization from Traffic Measurements\n",
      "6. Traffic Engineering With Traditional IP Routing Protocols\n",
      "7. On the Relevance of Time Scales in Performance Oriented Traffic Characterizations\n",
      "8. On Bandwidth Smoothing\n",
      "9. Earliest Deadline Scheduling for Real-Time Database Systems\n",
      "10. Efficient Network QoS Provisioning Based on per Node Traffic Shaping\n",
      "\n",
      "\n"
     ]
    },
    {
     "name": "stderr",
     "output_type": "stream",
     "text": [
      "/usr/local/lib/python2.7/dist-packages/sklearn/utils/validation.py:395: DeprecationWarning: Passing 1d arrays as data is deprecated in 0.17 and will raise ValueError in 0.19. Reshape your data either using X.reshape(-1, 1) if your data has a single feature or X.reshape(1, -1) if it contains a single sample.\n",
      "  DeprecationWarning)\n"
     ]
    },
    {
     "data": {
      "text/markdown": [
       "## Titulo: Hierarchical Non-linear Factor Analysis and Topographic Maps"
      ],
      "text/plain": [
       "<IPython.core.display.Markdown object>"
      ]
     },
     "metadata": {},
     "output_type": "display_data"
    },
    {
     "data": {
      "text/markdown": [
       "### Documentos cercanos"
      ],
      "text/plain": [
       "<IPython.core.display.Markdown object>"
      ]
     },
     "metadata": {},
     "output_type": "display_data"
    },
    {
     "name": "stdout",
     "output_type": "stream",
     "text": [
      "1. Self-Organizing Feature Maps with Lateral Connections: Modeling Ocular Dominance\n",
      "2. Scale-space Properties of Quadratic Feature Detectors\n",
      "3. How Lateral Interaction Develops in a Self-Organizing Feature Map\n",
      "4. A Unified Neural Network Model for the Self-organization of Topographic Receptive Fields and Lateral Interaction\n",
      "5. Factor Analysis Using Delta-Rule Wake-Sleep Learning\n",
      "6. Stereo Image Compression with Disparity Compensation Using the MRF Model\n",
      "7. The Growing Hierarchical Self-Organizing Map: Exploratory Analysis of High-Dimensional Data\n",
      "8. Self-Organization and Functional Role of Lateral Connections and Multisize Receptive Fields in the Primary Visual Cortex\n",
      "9. Processing Images By Semi-Linear Predictability Minimization\n",
      "10. Computing Stereo Disparity and Motion with Known Binocular Cell Properties\n",
      "\n",
      "\n"
     ]
    }
   ],
   "source": [
    "nearest_neighbors=10\n",
    "model = 'tf_idf' # 'lda' 'tf_idf'\n",
    "metric = 'cosine' # 'cosine' 'euclidean'\n",
    "\n",
    "display(Markdown(\"# `neighbors=\" + str(nearest_neighbors) + \"` y `metric='\" + metric + \"'`\"))\n",
    "\n",
    "\n",
    "M = len(corpus)\n",
    "N = len(dictionary)\n",
    "\n",
    "s_time=time.time()\n",
    "X = to_sparse(corpus_df[model].tolist())\n",
    "ttts=time.time() - s_time\n",
    "s_time=time.time()\n",
    "document_index = NearestNeighbors(n_neighbors=(nearest_neighbors+1), algorithm='brute', metric=metric).fit(X)\n",
    "tfit=time.time() - s_time\n",
    "print \"Tiempo to_sparse:\", ttts\n",
    "print \"Tiempo NN fit   :\", tfit\n",
    "for n, (ix, paper) in enumerate(samples.iterrows()):\n",
    "    dists, neighbors = document_index.kneighbors(gensim.matutils.sparse2full(paper[model],length=N))\n",
    "    display(Markdown(\"## Titulo: \" + paper['title']))\n",
    "    #print paper['title']\n",
    "    display(Markdown(\"### Documentos cercanos\"))\n",
    "\n",
    "    #print 'Documentos cercanos: '\n",
    "    i = 1\n",
    "    for neighbour in neighbors[0]:\n",
    "        if ix != neighbour:\n",
    "            line = str(i) + \". \" + corpus_df.iloc[neighbour]['title']\n",
    "            print line\n",
    "            i+=1\n",
    "    print '\\n' "
   ]
  },
  {
   "cell_type": "markdown",
   "metadata": {},
   "source": [
    "## model : lda\n",
    "Eligiendo un valor fijo de nearest_neighbors y metric\n",
    "** model : 'lda' **\n",
    "¿qué efecto tiene el usar LDA versus TF-IDF en las recomendaciones observadas?\n",
    "\n",
    "### Respuesta:\n",
    "Utilizando el modelo `lda` cambian completamente los documentos recomendados. Incluso parecen alejarse de el tópico del documento elegido."
   ]
  },
  {
   "cell_type": "code",
   "execution_count": 16,
   "metadata": {
    "collapsed": false
   },
   "outputs": [
    {
     "data": {
      "text/markdown": [
       "# `neighbors=10`, `metric='cosine'` y `model='lda'`"
      ],
      "text/plain": [
       "<IPython.core.display.Markdown object>"
      ]
     },
     "metadata": {},
     "output_type": "display_data"
    },
    {
     "name": "stderr",
     "output_type": "stream",
     "text": [
      "/usr/local/lib/python2.7/dist-packages/sklearn/utils/validation.py:395: DeprecationWarning: Passing 1d arrays as data is deprecated in 0.17 and will raise ValueError in 0.19. Reshape your data either using X.reshape(-1, 1) if your data has a single feature or X.reshape(1, -1) if it contains a single sample.\n",
      "  DeprecationWarning)\n"
     ]
    },
    {
     "data": {
      "text/markdown": [
       "## Titulo: Bounds on the Efficiency of Message-Passing Protocols for Parallel Computers"
      ],
      "text/plain": [
       "<IPython.core.display.Markdown object>"
      ]
     },
     "metadata": {},
     "output_type": "display_data"
    },
    {
     "data": {
      "text/markdown": [
       "### Documentos cercanos"
      ],
      "text/plain": [
       "<IPython.core.display.Markdown object>"
      ]
     },
     "metadata": {},
     "output_type": "display_data"
    },
    {
     "name": "stdout",
     "output_type": "stream",
     "text": [
      "1. How To Prove Yourself: Practical Solutions to Identification and Signature Problems\n",
      "2. Definitions And Properties Of Zero-Knowledge Proof Systems\n",
      "3. Smart Playing Cards: A Ubiquitous Computing Game\n",
      "4. On Two-Step Routing for FPGAs\n",
      "5. Learning Context Sensitive Languages with LSTM Trained with Kalman Filters\n",
      "6. Performance Anomaly of 802.11b\n",
      "7. Best-Path vs. Multi-Path Overlay Routing\n",
      "8. Algorithm for Optimal Winner Determination in Combinatorial Auctions\n",
      "9. Multicast in DKS(N, k, f) Overlay Networks\n",
      "10. AIMD, Fairness and Fractal Scaling of TCP Traffic\n",
      "\n",
      "\n"
     ]
    },
    {
     "name": "stderr",
     "output_type": "stream",
     "text": [
      "/usr/local/lib/python2.7/dist-packages/sklearn/utils/validation.py:395: DeprecationWarning: Passing 1d arrays as data is deprecated in 0.17 and will raise ValueError in 0.19. Reshape your data either using X.reshape(-1, 1) if your data has a single feature or X.reshape(1, -1) if it contains a single sample.\n",
      "  DeprecationWarning)\n"
     ]
    },
    {
     "data": {
      "text/markdown": [
       "## Titulo: A Network Calculus with Effective Bandwidth"
      ],
      "text/plain": [
       "<IPython.core.display.Markdown object>"
      ]
     },
     "metadata": {},
     "output_type": "display_data"
    },
    {
     "data": {
      "text/markdown": [
       "### Documentos cercanos"
      ],
      "text/plain": [
       "<IPython.core.display.Markdown object>"
      ]
     },
     "metadata": {},
     "output_type": "display_data"
    },
    {
     "name": "stdout",
     "output_type": "stream",
     "text": [
      "1. Rateless Codes and Big Downloads\n",
      "2. Trajectory Based Forwarding and Its Applications\n",
      "3. Strong Interaction Fairness via Randomization\n",
      "4. Opportunistic Fair Scheduling over Multiple Wireless Channels\n",
      "5. Focusing Search in Hierarchical Structures with Directory Sets\n",
      "6. Evaluating High Accuracy Retrieval Techniques\n",
      "7. Exploring the VLSI Scalability of Stream Processors\n",
      "8. From Symptom to Cause: Localizing Errors in Counterexample Traces\n",
      "9. A Synchronization Strategy for a Time-Triggered Multicluster Real-Time System\n",
      "10. A Neural Network Based Head Tracking System\n",
      "\n",
      "\n"
     ]
    },
    {
     "name": "stderr",
     "output_type": "stream",
     "text": [
      "/usr/local/lib/python2.7/dist-packages/sklearn/utils/validation.py:395: DeprecationWarning: Passing 1d arrays as data is deprecated in 0.17 and will raise ValueError in 0.19. Reshape your data either using X.reshape(-1, 1) if your data has a single feature or X.reshape(1, -1) if it contains a single sample.\n",
      "  DeprecationWarning)\n"
     ]
    },
    {
     "data": {
      "text/markdown": [
       "## Titulo: Hierarchical Non-linear Factor Analysis and Topographic Maps"
      ],
      "text/plain": [
       "<IPython.core.display.Markdown object>"
      ]
     },
     "metadata": {},
     "output_type": "display_data"
    },
    {
     "data": {
      "text/markdown": [
       "### Documentos cercanos"
      ],
      "text/plain": [
       "<IPython.core.display.Markdown object>"
      ]
     },
     "metadata": {},
     "output_type": "display_data"
    },
    {
     "name": "stdout",
     "output_type": "stream",
     "text": [
      "1. Data-Centric Storage in Sensornets\n",
      "2. Hierarchical Wavelet Networks for Facial Feature Localization\n",
      "3. Secure Identity Based Encryption without Random Oracles\n",
      "4. Tail Index Estimation for Dependent Data\n",
      "5. A Multigrid Approach for Hierarchical Motion Estimation\n",
      "6. An Image-Based Approach To Three-Dimensional Computer Graphics\n",
      "7. Image Representation Using 2D Gabor Wavelets\n",
      "8. Human Pose Estimation From Silhouettes: A Consistent Approach Using Distance Level Sets\n",
      "9. Epipolar Curves on Surfaces\n",
      "10. Separability of Polyhedra for Optimal Filtering of Spatial and Constraint Data\n",
      "\n",
      "\n"
     ]
    }
   ],
   "source": [
    "nearest_neighbors=10\n",
    "model = 'lda' # 'lda' 'tf_idf'\n",
    "metric = 'cosine' # 'cosine' 'euclidean'\n",
    "\n",
    "display(Markdown(\"# `neighbors=\" + str(nearest_neighbors) + \"`, `metric='\" + metric + \"'` y `model='\" + model + \"'`\"))\n",
    "\n",
    "M = len(corpus)\n",
    "N = len(dictionary)\n",
    "\n",
    "X = to_sparse(corpus_df[model].tolist())\n",
    "\n",
    "document_index = NearestNeighbors(n_neighbors=(nearest_neighbors+1), algorithm='brute', metric=metric).fit(X)\n",
    "\n",
    "\n",
    "for n, (ix, paper) in enumerate(samples.iterrows()):\n",
    "    dists, neighbors = document_index.kneighbors(gensim.matutils.sparse2full(paper[model],length=N))\n",
    "    display(Markdown(\"## Titulo: \" + paper['title']))\n",
    "    #print paper['title']\n",
    "    display(Markdown(\"### Documentos cercanos\"))\n",
    "\n",
    "    #print 'Documentos cercanos: '\n",
    "    i = 1\n",
    "    for neighbour in neighbors[0]:\n",
    "        if ix != neighbour:\n",
    "            line = str(i) + \". \" + corpus_df.iloc[neighbour]['title']\n",
    "            print line\n",
    "            i+=1\n",
    "    print '\\n' "
   ]
  },
  {
   "cell_type": "markdown",
   "metadata": {},
   "source": [
    "## LDA y 5 tópicos\n",
    "Pruebe nuevamente con LDA usando sólo 5 tópicos, rehacer modelo más arriba en **(2)**\n",
    "¿qué efecto tiene el número de tópicos en las recomendaciones observadas?\n",
    "\n",
    "\n",
    "### Respuesta\n",
    "Se corrige `topic_number=10` dada la aclaración de Denis por correo. \n",
    "Cambió completamente la lista de recomendación. Se observa ademas que la creación del corpus en este casó tarda cerca de 11 segundos mas que con 5 tópicos.\n"
   ]
  },
  {
   "cell_type": "code",
   "execution_count": 21,
   "metadata": {
    "collapsed": false
   },
   "outputs": [
    {
     "name": "stderr",
     "output_type": "stream",
     "text": [
      "WARNING:gensim.models.ldamodel:no word id mapping provided; initializing from corpus, assuming identity\n",
      "WARNING:gensim.models.ldamodel:too few updates, training might not converge; consider increasing the number of passes or iterations to improve accuracy\n"
     ]
    },
    {
     "name": "stdout",
     "output_type": "stream",
     "text": [
      "CPU times: user 50.7 s, sys: 0 ns, total: 50.7 s\n",
      "Wall time: 51 s\n"
     ]
    }
   ],
   "source": [
    "%%time\n",
    "# Se modifica a 5 topicos y se vuelve a ejecutar código\n",
    "topic_number = 10\n",
    "\n",
    "lda_model = models.LdaModel(corpus, num_topics=topic_number)\n",
    "corpus_df['lda'] = lda_model[corpus_df.bow.tolist()]"
   ]
  },
  {
   "cell_type": "code",
   "execution_count": 23,
   "metadata": {
    "collapsed": false
   },
   "outputs": [
    {
     "data": {
      "text/markdown": [
       "# `neighbors=10`, `metric='cosine'` y `model='lda'`"
      ],
      "text/plain": [
       "<IPython.core.display.Markdown object>"
      ]
     },
     "metadata": {},
     "output_type": "display_data"
    },
    {
     "name": "stderr",
     "output_type": "stream",
     "text": [
      "/usr/local/lib/python2.7/dist-packages/sklearn/utils/validation.py:395: DeprecationWarning: Passing 1d arrays as data is deprecated in 0.17 and will raise ValueError in 0.19. Reshape your data either using X.reshape(-1, 1) if your data has a single feature or X.reshape(1, -1) if it contains a single sample.\n",
      "  DeprecationWarning)\n"
     ]
    },
    {
     "data": {
      "text/markdown": [
       "## Titulo: Bounds on the Efficiency of Message-Passing Protocols for Parallel Computers"
      ],
      "text/plain": [
       "<IPython.core.display.Markdown object>"
      ]
     },
     "metadata": {},
     "output_type": "display_data"
    },
    {
     "data": {
      "text/markdown": [
       "### Documentos cercanos"
      ],
      "text/plain": [
       "<IPython.core.display.Markdown object>"
      ]
     },
     "metadata": {},
     "output_type": "display_data"
    },
    {
     "name": "stdout",
     "output_type": "stream",
     "text": [
      "1. Satometer: How Much Have We Searched?\n",
      "2. Linearizing Intuitionistic Implication\n",
      "3. Asymptotic Equivalence of Density Estimation and Gaussian White Noise\n",
      "4. Computer-Assisted Bounds for the Rate of Decay of Correlations\n",
      "5. Compressing Polygon Mesh Geometry with Parallelogram Prediction\n",
      "6. Simulating Physics with Computers\n",
      "7. Precise Flow-Insensitive May-Alias Analysis is NP-Hard\n",
      "8. Computing Contour Closure\n",
      "9. Incremental Gaussian Processes\n",
      "10. Pac-learning Recursive Logic Programs: Negative Results\n",
      "11. Bottom-up Grammar Analysis - A Functional Formulation\n",
      "\n",
      "\n"
     ]
    },
    {
     "name": "stderr",
     "output_type": "stream",
     "text": [
      "/usr/local/lib/python2.7/dist-packages/sklearn/utils/validation.py:395: DeprecationWarning: Passing 1d arrays as data is deprecated in 0.17 and will raise ValueError in 0.19. Reshape your data either using X.reshape(-1, 1) if your data has a single feature or X.reshape(1, -1) if it contains a single sample.\n",
      "  DeprecationWarning)\n"
     ]
    },
    {
     "data": {
      "text/markdown": [
       "## Titulo: A Network Calculus with Effective Bandwidth"
      ],
      "text/plain": [
       "<IPython.core.display.Markdown object>"
      ]
     },
     "metadata": {},
     "output_type": "display_data"
    },
    {
     "data": {
      "text/markdown": [
       "### Documentos cercanos"
      ],
      "text/plain": [
       "<IPython.core.display.Markdown object>"
      ]
     },
     "metadata": {},
     "output_type": "display_data"
    },
    {
     "name": "stdout",
     "output_type": "stream",
     "text": [
      "1. Protocol Analysis using a timed version of SDL\n",
      "2. Analysis of Sequential SLG Evaluation\n",
      "3. Verification of Linear Hybrid Systems By Means of Convex Approximations\n",
      "4. Real Time Inverse Kinematics for General 6R Manipulators\n",
      "5. Second-Order Stability Cells of a Frictionless Rigid Body Grasped by Rigid Fingers\n",
      "6. Quantum Computers and Dissipation\n",
      "7. Modal Logic and Attribute Value Structures\n",
      "8. On Unifying Some Cryptographic Protocol Logics\n",
      "9. A Logical Semantics For Nonmonotonic Sorts\n",
      "10. Verifying Programs with Unreliable Channels\n",
      "11. Adding learning to the cellular development of neural networks: Evolution and the Baldwin effect.\n",
      "\n",
      "\n"
     ]
    },
    {
     "name": "stderr",
     "output_type": "stream",
     "text": [
      "/usr/local/lib/python2.7/dist-packages/sklearn/utils/validation.py:395: DeprecationWarning: Passing 1d arrays as data is deprecated in 0.17 and will raise ValueError in 0.19. Reshape your data either using X.reshape(-1, 1) if your data has a single feature or X.reshape(1, -1) if it contains a single sample.\n",
      "  DeprecationWarning)\n"
     ]
    },
    {
     "data": {
      "text/markdown": [
       "## Titulo: Hierarchical Non-linear Factor Analysis and Topographic Maps"
      ],
      "text/plain": [
       "<IPython.core.display.Markdown object>"
      ]
     },
     "metadata": {},
     "output_type": "display_data"
    },
    {
     "data": {
      "text/markdown": [
       "### Documentos cercanos"
      ],
      "text/plain": [
       "<IPython.core.display.Markdown object>"
      ]
     },
     "metadata": {},
     "output_type": "display_data"
    },
    {
     "name": "stdout",
     "output_type": "stream",
     "text": [
      "1. Greedy approximation Algorithm For constructing Shortest Common Superstring\n",
      "2. Axiomatic Rewriting Theory IV - A stability theorem in Rewriting Theory\n",
      "3. Computing With Very Weak Random Sources\n",
      "4. Short Length Menger's Theorem and Reliable Optical Routing,\n",
      "5. Gene Pool Recombination in Genetic Algorithms\n",
      "6. Computing Discrete Minimal Surfaces and Their Conjugates\n",
      "7. Three-Dimensional Orthogonal Graph Drawing with Optimal Volume\n",
      "8. Infinitary Logic and Inductive Definability over Finite Structures\n",
      "9. Branching Processes\n",
      "10. Categorical Combinators for Charity\n",
      "11. Space Efficient Suffix Trees\n",
      "\n",
      "\n",
      "CPU times: user 3.49 s, sys: 944 ms, total: 4.43 s\n",
      "Wall time: 5.05 s\n"
     ]
    }
   ],
   "source": [
    "%%time\n",
    "\n",
    "nearest_neighbors=10\n",
    "model = 'lda' # 'lda' 'tf_idf'\n",
    "metric = 'cosine' # 'cosine' 'euclidean'\n",
    "\n",
    "display(Markdown(\"# `neighbors=\" + str(nearest_neighbors) + \"`, `metric='\" + metric + \"'` y `model='\" + model + \"'`\"))\n",
    "\n",
    "M = len(corpus)\n",
    "N = len(dictionary)\n",
    "\n",
    "X = to_sparse(corpus_df[model].tolist())\n",
    "\n",
    "document_index = NearestNeighbors(n_neighbors=(nearest_neighbors+1), algorithm='brute', metric=metric).fit(X)\n",
    "\n",
    "\n",
    "for n, (ix, paper) in enumerate(samples.iterrows()):\n",
    "    dists, neighbors = document_index.kneighbors(gensim.matutils.sparse2full(paper[model],length=N))\n",
    "    display(Markdown(\"## Titulo: \" + paper['title']))\n",
    "    #print paper['title']\n",
    "    display(Markdown(\"### Documentos cercanos\"))\n",
    "\n",
    "    #print 'Documentos cercanos: '\n",
    "    i = 1\n",
    "    for neighbour in neighbors[0]:\n",
    "        if ix != neighbour:\n",
    "            line = str(i) + \". \" + corpus_df.iloc[neighbour]['title']\n",
    "            print line\n",
    "            i+=1\n",
    "    print '\\n' "
   ]
  }
 ],
 "metadata": {
  "kernelspec": {
   "display_name": "Python 2",
   "language": "python",
   "name": "python2"
  },
  "language_info": {
   "codemirror_mode": {
    "name": "ipython",
    "version": 2
   },
   "file_extension": ".py",
   "mimetype": "text/x-python",
   "name": "python",
   "nbconvert_exporter": "python",
   "pygments_lexer": "ipython2",
   "version": "2.7.6"
  }
 },
 "nbformat": 4,
 "nbformat_minor": 0
}
